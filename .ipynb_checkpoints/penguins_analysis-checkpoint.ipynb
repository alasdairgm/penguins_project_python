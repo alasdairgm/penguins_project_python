{
 "cells": [
  {
   "cell_type": "markdown",
   "id": "9ee93177",
   "metadata": {},
   "source": [
    "# Penguins Analysis\n",
    "\n",
    "I'm interested in how bill length differs between the three species of penguin (Adelie, Chinstrap and Gentoo) in the Palmer Archipelago (Antartica) penguin dataset.\n",
    "\n",
    "Data was collected and made available by Dr. Kristen Gorman and the Palmer Station, Antarctica LTER, a member of the Long Term Ecological Research Network.\n",
    "\n",
    "Kaggle link: https://www.kaggle.com/datasets/parulpandey/palmer-archipelago-antarctica-penguin-data"
   ]
  },
  {
   "cell_type": "markdown",
   "id": "e9557849",
   "metadata": {},
   "source": [
    "## Setup"
   ]
  },
  {
   "cell_type": "code",
   "execution_count": 187,
   "id": "c942088f",
   "metadata": {},
   "outputs": [],
   "source": [
    "import seaborn as sns\n",
    "import numpy as np\n",
    "import pandas as pd\n",
    "import matplotlib.pyplot as plt\n",
    "\n",
    "# read in the Palmer penguins data\n",
    "penguins = sns.load_dataset(\"penguins\")"
   ]
  },
  {
   "cell_type": "code",
   "execution_count": 188,
   "id": "0f3d4986",
   "metadata": {},
   "outputs": [
    {
     "data": {
      "text/html": [
       "<div>\n",
       "<style scoped>\n",
       "    .dataframe tbody tr th:only-of-type {\n",
       "        vertical-align: middle;\n",
       "    }\n",
       "\n",
       "    .dataframe tbody tr th {\n",
       "        vertical-align: top;\n",
       "    }\n",
       "\n",
       "    .dataframe thead th {\n",
       "        text-align: right;\n",
       "    }\n",
       "</style>\n",
       "<table border=\"1\" class=\"dataframe\">\n",
       "  <thead>\n",
       "    <tr style=\"text-align: right;\">\n",
       "      <th></th>\n",
       "      <th>species</th>\n",
       "      <th>bill_length_mm</th>\n",
       "    </tr>\n",
       "  </thead>\n",
       "  <tbody>\n",
       "    <tr>\n",
       "      <th>0</th>\n",
       "      <td>Adelie</td>\n",
       "      <td>39.1</td>\n",
       "    </tr>\n",
       "    <tr>\n",
       "      <th>1</th>\n",
       "      <td>Adelie</td>\n",
       "      <td>39.5</td>\n",
       "    </tr>\n",
       "    <tr>\n",
       "      <th>2</th>\n",
       "      <td>Adelie</td>\n",
       "      <td>40.3</td>\n",
       "    </tr>\n",
       "    <tr>\n",
       "      <th>3</th>\n",
       "      <td>Adelie</td>\n",
       "      <td>NaN</td>\n",
       "    </tr>\n",
       "    <tr>\n",
       "      <th>4</th>\n",
       "      <td>Adelie</td>\n",
       "      <td>36.7</td>\n",
       "    </tr>\n",
       "    <tr>\n",
       "      <th>...</th>\n",
       "      <td>...</td>\n",
       "      <td>...</td>\n",
       "    </tr>\n",
       "    <tr>\n",
       "      <th>339</th>\n",
       "      <td>Gentoo</td>\n",
       "      <td>NaN</td>\n",
       "    </tr>\n",
       "    <tr>\n",
       "      <th>340</th>\n",
       "      <td>Gentoo</td>\n",
       "      <td>46.8</td>\n",
       "    </tr>\n",
       "    <tr>\n",
       "      <th>341</th>\n",
       "      <td>Gentoo</td>\n",
       "      <td>50.4</td>\n",
       "    </tr>\n",
       "    <tr>\n",
       "      <th>342</th>\n",
       "      <td>Gentoo</td>\n",
       "      <td>45.2</td>\n",
       "    </tr>\n",
       "    <tr>\n",
       "      <th>343</th>\n",
       "      <td>Gentoo</td>\n",
       "      <td>49.9</td>\n",
       "    </tr>\n",
       "  </tbody>\n",
       "</table>\n",
       "<p>344 rows × 2 columns</p>\n",
       "</div>"
      ],
      "text/plain": [
       "    species  bill_length_mm\n",
       "0    Adelie            39.1\n",
       "1    Adelie            39.5\n",
       "2    Adelie            40.3\n",
       "3    Adelie             NaN\n",
       "4    Adelie            36.7\n",
       "..      ...             ...\n",
       "339  Gentoo             NaN\n",
       "340  Gentoo            46.8\n",
       "341  Gentoo            50.4\n",
       "342  Gentoo            45.2\n",
       "343  Gentoo            49.9\n",
       "\n",
       "[344 rows x 2 columns]"
      ]
     },
     "execution_count": 188,
     "metadata": {},
     "output_type": "execute_result"
    }
   ],
   "source": [
    "penguins = penguins.loc[:, [\"species\",\"bill_length_mm\"]]\n",
    "penguins"
   ]
  },
  {
   "cell_type": "markdown",
   "id": "d6b78f43",
   "metadata": {},
   "source": [
    "## Exploratory analysis"
   ]
  },
  {
   "cell_type": "markdown",
   "id": "125de013",
   "metadata": {},
   "source": [
    "### Density plot"
   ]
  },
  {
   "cell_type": "code",
   "execution_count": 99,
   "id": "00b7ee2d",
   "metadata": {},
   "outputs": [
    {
     "data": {
      "text/plain": [
       "<matplotlib.legend.Legend at 0x7fde6edb0d90>"
      ]
     },
     "execution_count": 99,
     "metadata": {},
     "output_type": "execute_result"
    },
    {
     "data": {
      "image/png": "[encoded data removed]",
      "text/plain": [
       "<Figure size 500x500 with 1 Axes>"
      ]
     },
     "metadata": {},
     "output_type": "display_data"
    }
   ],
   "source": [
    "sns.displot(penguins, x = \"bill_length_mm\", kind = \"kde\",\\\n",
    "            hue = \"species\", fill = True, legend = False)\n",
    "plt.xlabel(\"Bill length (mm)\")\n",
    "plt.legend(title = \"Species\", loc = \"upper right\",\n",
    "          labels = [\"Gentoo\", \"Chinstrap\", \"Adelie\"])\n"
   ]
  },
  {
   "cell_type": "markdown",
   "id": "f351a542",
   "metadata": {},
   "source": [
    "## Boxplot"
   ]
  },
  {
   "cell_type": "code",
   "execution_count": 100,
   "id": "4fa78fd9",
   "metadata": {},
   "outputs": [
    {
     "data": {
      "text/plain": [
       "Text(0.5, 0, 'Bill length (mm)')"
      ]
     },
     "execution_count": 100,
     "metadata": {},
     "output_type": "execute_result"
    },
    {
     "data": {
      "image/png": "[encoded data removed]",
      "text/plain": [
       "<Figure size 640x480 with 1 Axes>"
      ]
     },
     "metadata": {},
     "output_type": "display_data"
    }
   ],
   "source": [
    "sns.boxplot(penguins, x = \"bill_length_mm\", y = \"species\")\n",
    "plt.ylabel(\"Species\")\n",
    "plt.xlabel(\"Bill length (mm)\")"
   ]
  },
  {
   "cell_type": "markdown",
   "id": "0de8a622",
   "metadata": {},
   "source": [
    "### Interpretation\n",
    "\n",
    "From the plots above, we can see that Chinstrap penguins tend to have slightly higher bill lengths than Gentoo penguins, although there is definite overlap in the bill lengths of the two species. Adelie penguins tend to have the shortest bill lengths out of the three species of penguin, with a median bill length much lower than the other two.\n",
    "\n",
    "In terms of the distribution of the data, the Adelie distribution appears fairly normal, whereas the Chinstrap distribution seems to be slightly left-skewed and the Gentoo slightly right-skewed. There is also an outlier present in the Gentoo dataset (according to the 1.5 IQR rule)."
   ]
  },
  {
   "cell_type": "markdown",
   "id": "dbe95937",
   "metadata": {},
   "source": [
    "## Summary statistics\n",
    "\n",
    "Below I examine the measures of centrality, spread and skewness for bill length for each species."
   ]
  },
  {
   "cell_type": "code",
   "execution_count": 189,
   "id": "04b5b02c",
   "metadata": {},
   "outputs": [
    {
     "data": {
      "text/html": [
       "<div>\n",
       "<style scoped>\n",
       "    .dataframe tbody tr th:only-of-type {\n",
       "        vertical-align: middle;\n",
       "    }\n",
       "\n",
       "    .dataframe tbody tr th {\n",
       "        vertical-align: top;\n",
       "    }\n",
       "\n",
       "    .dataframe thead tr th {\n",
       "        text-align: left;\n",
       "    }\n",
       "\n",
       "    .dataframe thead tr:last-of-type th {\n",
       "        text-align: right;\n",
       "    }\n",
       "</style>\n",
       "<table border=\"1\" class=\"dataframe\">\n",
       "  <thead>\n",
       "    <tr>\n",
       "      <th></th>\n",
       "      <th colspan=\"4\" halign=\"left\">bill_length_mm</th>\n",
       "    </tr>\n",
       "    <tr>\n",
       "      <th></th>\n",
       "      <th>mean</th>\n",
       "      <th>median</th>\n",
       "      <th>std</th>\n",
       "      <th>skew</th>\n",
       "    </tr>\n",
       "    <tr>\n",
       "      <th>species</th>\n",
       "      <th></th>\n",
       "      <th></th>\n",
       "      <th></th>\n",
       "      <th></th>\n",
       "    </tr>\n",
       "  </thead>\n",
       "  <tbody>\n",
       "    <tr>\n",
       "      <th>Adelie</th>\n",
       "      <td>38.791391</td>\n",
       "      <td>38.80</td>\n",
       "      <td>2.663405</td>\n",
       "      <td>0.161674</td>\n",
       "    </tr>\n",
       "    <tr>\n",
       "      <th>Chinstrap</th>\n",
       "      <td>48.833824</td>\n",
       "      <td>49.55</td>\n",
       "      <td>3.339256</td>\n",
       "      <td>-0.090575</td>\n",
       "    </tr>\n",
       "    <tr>\n",
       "      <th>Gentoo</th>\n",
       "      <td>47.504878</td>\n",
       "      <td>47.30</td>\n",
       "      <td>3.081857</td>\n",
       "      <td>0.651131</td>\n",
       "    </tr>\n",
       "  </tbody>\n",
       "</table>\n",
       "</div>"
      ],
      "text/plain": [
       "          bill_length_mm                           \n",
       "                    mean median       std      skew\n",
       "species                                            \n",
       "Adelie         38.791391  38.80  2.663405  0.161674\n",
       "Chinstrap      48.833824  49.55  3.339256 -0.090575\n",
       "Gentoo         47.504878  47.30  3.081857  0.651131"
      ]
     },
     "execution_count": 189,
     "metadata": {},
     "output_type": "execute_result"
    }
   ],
   "source": [
    "penguins_aggregated = penguins.groupby(\"species\").agg([\"mean\", \"median\", \"std\", \"skew\"])\n",
    "\n",
    "penguins_aggregated"
   ]
  },
  {
   "cell_type": "markdown",
   "id": "713c2129",
   "metadata": {},
   "source": [
    "Penguins of the Adelie species have the lowest mean (**38.79**) and median (**38.80**) bill lengths, as well as the lowest variability (**SD: 2.66**). Furthermore, the distribution is fairly symmetrical with a skewness value of **0.16**.\n",
    "\n",
    "The mean and median bill lengths of the Chinstrap species are **48.83** and **49.55** respectively, which are both higher than the mean/median bill lengths for the two other species. The species also has the highest standard deviation (**3.34**). The distribution is symmetrical (**-0.09**).\n",
    "\n",
    "Gentoo penguins in this dataset have a mean bill length of **47.50** and a median bill length of **47.30**, with a standard deviation of **3.08**. The data for Gentoo penguins is slightly right-skewed (skewness score of **0.65**) as indicated by the visualisations above.\n",
    "\n",
    "Overall, the summary statistics further indicate that Chinstrap penguins have the longest bills, and Adelie have the shortest."
   ]
  },
  {
   "cell_type": "markdown",
   "id": "c748c23c",
   "metadata": {},
   "source": [
    "## Hypothesis test & probability\n",
    "\n",
    "Below a perform a hypothesis test to check whether the mean bill length of Gentoo is significantly longer than the mean bill length of Adelie.\n",
    "\n",
    "\n",
    "H0 : mean gentoo bill length - mean adelie bill length = 0\n",
    "\n",
    "Ha : mean gentoo bill length - mean adelie bill length > 0\n",
    "\n",
    "alpha = 0.05"
   ]
  },
  {
   "cell_type": "markdown",
   "id": "674b174d",
   "metadata": {},
   "source": [
    "### Calculate test statistic"
   ]
  },
  {
   "cell_type": "code",
   "execution_count": 75,
   "id": "4b47329e",
   "metadata": {},
   "outputs": [
    {
     "data": {
      "text/html": [
       "<div>\n",
       "<style scoped>\n",
       "    .dataframe tbody tr th:only-of-type {\n",
       "        vertical-align: middle;\n",
       "    }\n",
       "\n",
       "    .dataframe tbody tr th {\n",
       "        vertical-align: top;\n",
       "    }\n",
       "\n",
       "    .dataframe thead tr th {\n",
       "        text-align: left;\n",
       "    }\n",
       "\n",
       "    .dataframe thead tr:last-of-type th {\n",
       "        text-align: right;\n",
       "    }\n",
       "</style>\n",
       "<table border=\"1\" class=\"dataframe\">\n",
       "  <thead>\n",
       "    <tr>\n",
       "      <th></th>\n",
       "      <th colspan=\"4\" halign=\"left\">bill_length_mm</th>\n",
       "    </tr>\n",
       "    <tr>\n",
       "      <th></th>\n",
       "      <th>mean</th>\n",
       "      <th>median</th>\n",
       "      <th>std</th>\n",
       "      <th>skew</th>\n",
       "    </tr>\n",
       "    <tr>\n",
       "      <th>species</th>\n",
       "      <th></th>\n",
       "      <th></th>\n",
       "      <th></th>\n",
       "      <th></th>\n",
       "    </tr>\n",
       "  </thead>\n",
       "  <tbody>\n",
       "    <tr>\n",
       "      <th>Adelie</th>\n",
       "      <td>38.791391</td>\n",
       "      <td>38.80</td>\n",
       "      <td>2.663405</td>\n",
       "      <td>0.161674</td>\n",
       "    </tr>\n",
       "    <tr>\n",
       "      <th>Chinstrap</th>\n",
       "      <td>48.833824</td>\n",
       "      <td>49.55</td>\n",
       "      <td>3.339256</td>\n",
       "      <td>-0.090575</td>\n",
       "    </tr>\n",
       "    <tr>\n",
       "      <th>Gentoo</th>\n",
       "      <td>47.504878</td>\n",
       "      <td>47.30</td>\n",
       "      <td>3.081857</td>\n",
       "      <td>0.651131</td>\n",
       "    </tr>\n",
       "  </tbody>\n",
       "</table>\n",
       "</div>"
      ],
      "text/plain": [
       "          bill_length_mm                           \n",
       "                    mean median       std      skew\n",
       "species                                            \n",
       "Adelie         38.791391  38.80  2.663405  0.161674\n",
       "Chinstrap      48.833824  49.55  3.339256 -0.090575\n",
       "Gentoo         47.504878  47.30  3.081857  0.651131"
      ]
     },
     "execution_count": 75,
     "metadata": {},
     "output_type": "execute_result"
    }
   ],
   "source": [
    "penguins_aggregated"
   ]
  },
  {
   "cell_type": "code",
   "execution_count": 233,
   "id": "8dcc7227",
   "metadata": {},
   "outputs": [
    {
     "data": {
      "text/plain": [
       "8.71348732030367"
      ]
     },
     "execution_count": 233,
     "metadata": {},
     "output_type": "execute_result"
    }
   ],
   "source": [
    "# Gentoo mean bill length\n",
    "gentoo_mean = penguins_aggregated.loc[\"Gentoo\", (\"bill_length_mm\", \"mean\")]\n",
    "\n",
    "# Adelie mean bill length\n",
    "adelie_mean = penguins_aggregated.loc[\"Adelie\", (\"bill_length_mm\", \"mean\")]\n",
    "\n",
    "diff_obs = gentoo_mean - adelie_mean\n",
    "diff_obs"
   ]
  },
  {
   "cell_type": "markdown",
   "id": "c3a1e125",
   "metadata": {},
   "source": [
    "### Create and visualise null distribution"
   ]
  },
  {
   "cell_type": "markdown",
   "id": "3d05843b",
   "metadata": {},
   "source": [
    "The null hypothesis assumes that the mean bill lengths of Gentoos and Adelies are the same. To create a null distribution from this the observed distribution of Adelie and Gentoo records is resampled 10,000 times, with the species reallocated to the observed bill length at random.\n",
    "\n"
   ]
  },
  {
   "cell_type": "code",
   "execution_count": 234,
   "id": "a7754c7c",
   "metadata": {},
   "outputs": [],
   "source": [
    "def diff_between_species_permute(data):  \n",
    "    # shuffle species labels\n",
    "    data[\"species\"] = data[\"species\"].sample(frac = 1).values\n",
    "    # group by species and calculate mean bill length\n",
    "    agg_data = data.groupby(\"species\").agg(\"mean\")\n",
    "    \n",
    "    # Gentoo mean bill length\n",
    "    gentoo_mean = agg_data.loc[\"Gentoo\", :] \n",
    "    \n",
    "    # Adelie mean bill length\n",
    "    adelie_mean = agg_data.loc[\"Adelie\", :]  \n",
    "\n",
    "    return(gentoo_mean - adelie_mean)"
   ]
  },
  {
   "cell_type": "code",
   "execution_count": 235,
   "id": "d2eda4dd",
   "metadata": {},
   "outputs": [],
   "source": [
    "def draw_permute_reps(data, func, size=1):\n",
    "\n",
    "    # Initialize array of replicates: bs_replicates\n",
    "    perm_replicates = np.empty(size)\n",
    "\n",
    "    # Generate replicates\n",
    "    for i in range(size):\n",
    "        perm_replicates[i] = func(data)\n",
    "\n",
    "    return perm_replicates"
   ]
  },
  {
   "cell_type": "code",
   "execution_count": 236,
   "id": "2ea67ea5",
   "metadata": {},
   "outputs": [],
   "source": [
    "permuted_replicates = draw_permute_reps(penguins, diff_between_species_permute, size = 10000)\n",
    "permuted_reps_df = pd.DataFrame({\"replicate\": pd.Series(range(1,10001)),\n",
    "    \"rep_diff\": permuted_replicates})"
   ]
  },
  {
   "cell_type": "markdown",
   "id": "26b10588",
   "metadata": {},
   "source": [
    "Visualise this:"
   ]
  },
  {
   "cell_type": "code",
   "execution_count": 243,
   "id": "6cd7834c",
   "metadata": {},
   "outputs": [
    {
     "data": {
      "text/plain": [
       "Text(5.4, 450, 'Observed stat')"
      ]
     },
     "execution_count": 243,
     "metadata": {},
     "output_type": "execute_result"
    },
    {
     "data": {
      "image/png": "[encoded data removed]",
      "text/plain": [
       "<Figure size 500x500 with 1 Axes>"
      ]
     },
     "metadata": {},
     "output_type": "display_data"
    }
   ],
   "source": [
    "sns.displot(permuted_reps_df, x = \"rep_diff\", fill = True)\n",
    "plt.xlabel(\"Stat (i.e. difference in means)\")\n",
    "plt.title(\"Null distribution\")\n",
    "plt.axvline(x = diff_obs, color = \"red\", linewidth = 6)\n",
    "plt.text(5.4, 450, \"Observed stat\")"
   ]
  },
  {
   "cell_type": "markdown",
   "id": "c9f6157c",
   "metadata": {},
   "source": [
    "Based on this visualisation we can see that the observed difference between species is well beyond the values of the null distribution."
   ]
  },
  {
   "cell_type": "markdown",
   "id": "626c84e8",
   "metadata": {},
   "source": [
    "If the probability of getting the observed statistic from the null distribution (the p-value) is less than the significance level then we conclude that it is unlikely that the null hypothesis holds. Alternatively, if the p-value is higher than the significance level then we will fail to reject the null hypothesis as observing our statistic would be likely under the null hypothesis.\n",
    "\n"
   ]
  },
  {
   "cell_type": "markdown",
   "id": "1e6069f9",
   "metadata": {},
   "source": [
    "### Compute p-value"
   ]
  },
  {
   "cell_type": "code",
   "execution_count": 244,
   "id": "e0d130a9",
   "metadata": {},
   "outputs": [
    {
     "data": {
      "text/plain": [
       "8.71348732030367"
      ]
     },
     "execution_count": 244,
     "metadata": {},
     "output_type": "execute_result"
    }
   ],
   "source": [
    "diff_obs"
   ]
  },
  {
   "cell_type": "code",
   "execution_count": 246,
   "id": "06ab9ef5",
   "metadata": {},
   "outputs": [
    {
     "data": {
      "text/plain": [
       "0.0"
      ]
     },
     "execution_count": 246,
     "metadata": {},
     "output_type": "execute_result"
    }
   ],
   "source": [
    "p_value = np.sum(permuted_replicates >= diff_obs) / 10000\n",
    "p_value"
   ]
  },
  {
   "cell_type": "markdown",
   "id": "6563f8f0",
   "metadata": {},
   "source": [
    "p is so small it is reported as 0 by Python. p cannot be 0 itself so I'll report it as p < 0.001."
   ]
  },
  {
   "cell_type": "markdown",
   "id": "20869839",
   "metadata": {},
   "source": [
    "The plot shows that the observed statistic (the red line) is very far from the centre of the null distribution, therefore it would be very unlikely to observe a statistic at least as extreme if the null hypothesis was true.\n",
    "\n",
    "In fact, the p-value is well below my significance level of 0.05. Hence, we can reject the null hypothesis that the mean bill length of Gentoo penguins is the same or shorter than that of Adelie penguins in favour of the alternative hypothesis.\n",
    "\n"
   ]
  },
  {
   "cell_type": "markdown",
   "id": "0875bf49",
   "metadata": {},
   "source": [
    "## Correlation matrix\n",
    "\n",
    "Here I examine how each numeric variable associated with the penguin species correlates with each other, using a correlation matrix."
   ]
  },
  {
   "cell_type": "code",
   "execution_count": 62,
   "id": "8fbd257a",
   "metadata": {},
   "outputs": [
    {
     "data": {
      "image/png": "[encoded data removed]",
      "text/plain": [
       "<Figure size 640x480 with 2 Axes>"
      ]
     },
     "metadata": {},
     "output_type": "display_data"
    }
   ],
   "source": [
    "penguins = sns.load_dataset(\"penguins\") # revert back to whole data\n",
    "corr_matrix = penguins.select_dtypes(np.number).corr()\n",
    "\n",
    "# create a mask so that upper triangle gets masked and hidden\n",
    "mask = np.triu(np.ones_like(corr_matrix, dtype = bool))\n",
    "\n",
    "sns.heatmap(corr_matrix, annot=True, mask = mask, fmt = \".1f\")\n",
    "plt.show()"
   ]
  },
  {
   "cell_type": "markdown",
   "id": "36c7008e",
   "metadata": {},
   "source": [
    "The correlation matrix above shows there is a very strong positive correlation between body mass and flipper length (**r = 0.9**) across the penguin species. Furthermore, there is also a strong positive correlation between flipper length and bill length (**r = 0.7**), as well as between body mass and bill length (**r = 0.6**). There is a strong negative correlation between bill depth and flipper length (**r = -0.6**), as well as a moderate negative correlation between body mass and bill depth (**r = -0.5**). Furthermore, there is a weak correlation between bill length and bill depth (**r = -0.2**)\n",
    "\n",
    "In sum, bill depth has a moderate/strong negative association with flipper length and body mass, and a weak negative association with bill length, whereas flipper length, body mass, and bill length are all positively associated with each other. This suggests that as penguins body mass increases, their flipper and bill lengths increase whereas the bill depth decreases."
   ]
  }
 ],
 "metadata": {
  "kernelspec": {
   "display_name": "Python 3 (ipykernel)",
   "language": "python",
   "name": "python3"
  },
  "language_info": {
   "codemirror_mode": {
    "name": "ipython",
    "version": 3
   },
   "file_extension": ".py",
   "mimetype": "text/x-python",
   "name": "python",
   "nbconvert_exporter": "python",
   "pygments_lexer": "ipython3",
   "version": "3.9.13"
  },
  "toc": {
   "base_numbering": 1,
   "nav_menu": {},
   "number_sections": true,
   "sideBar": true,
   "skip_h1_title": false,
   "title_cell": "Table of Contents",
   "title_sidebar": "Contents",
   "toc_cell": false,
   "toc_position": {},
   "toc_section_display": true,
   "toc_window_display": false
  },
  "varInspector": {
   "cols": {
    "lenName": 16,
    "lenType": 16,
    "lenVar": 40
   },
   "kernels_config": {
    "python": {
     "delete_cmd_postfix": "",
     "delete_cmd_prefix": "del ",
     "library": "var_list.py",
     "varRefreshCmd": "print(var_dic_list())"
    },
    "r": {
     "delete_cmd_postfix": ") ",
     "delete_cmd_prefix": "rm(",
     "library": "var_list.r",
     "varRefreshCmd": "cat(var_dic_list()) "
    }
   },
   "types_to_exclude": [
    "module",
    "function",
    "builtin_function_or_method",
    "instance",
    "_Feature"
   ],
   "window_display": false
  }
 },
 "nbformat": 4,
 "nbformat_minor": 5
}
